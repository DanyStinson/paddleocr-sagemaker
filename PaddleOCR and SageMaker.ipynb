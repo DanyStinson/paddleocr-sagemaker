{
 "cells": [
  {
   "cell_type": "markdown",
   "id": "7d9aeb37-178f-4af8-816c-64084553da23",
   "metadata": {
    "tags": []
   },
   "source": [
    "# PaddleOCR and Amazon SageMaker\n",
    "This notebook explains the steps needed to train a PaddleOCR text reconition model locally and how to deploy it to an Amazon SageMaker Endpoint.\n",
    "## Install and configuration"
   ]
  },
  {
   "cell_type": "code",
   "execution_count": null,
   "id": "d3bf91e2-4c73-4db0-b601-c15e6cc4f8a3",
   "metadata": {
    "tags": []
   },
   "outputs": [],
   "source": [
    "!git clone https://github.com/PaddlePaddle/PaddleOCR"
   ]
  },
  {
   "cell_type": "code",
   "execution_count": null,
   "id": "99f42123-ac96-4442-9978-6b55ef49595f",
   "metadata": {
    "tags": []
   },
   "outputs": [],
   "source": [
    "# If you have CUDA 9 or CUDA 10\n",
    "!pip install paddlepaddle-gpu -i https://pypi.tuna.tsinghua.edu.cn/simple\n",
    "!pip install \"paddleocr>=2.0.1\" -q\n",
    "# If running without GPU\n",
    "# !pip install paddlepaddle -i https://pypi.tuna.tsinghua.edu.cn/simple"
   ]
  },
  {
   "cell_type": "code",
   "execution_count": null,
   "id": "647c4e0b-4a08-47b6-a25d-b8d9d9cd7982",
   "metadata": {
    "tags": []
   },
   "outputs": [],
   "source": [
    "!pip install -r \"PaddleOCR/requirements.txt\""
   ]
  },
  {
   "cell_type": "markdown",
   "id": "9d0ad3c2-7e10-4a47-986c-c7c0d0bfa2a4",
   "metadata": {},
   "source": [
    "You might need to install openssl11-libs if you get an error when importing paddleocr"
   ]
  },
  {
   "cell_type": "code",
   "execution_count": null,
   "id": "e6dad98b-5619-4a13-9ad0-e012c40b4839",
   "metadata": {
    "tags": []
   },
   "outputs": [],
   "source": [
    "#!sudo yum install openssl11-libs -y"
   ]
  },
  {
   "cell_type": "markdown",
   "id": "5b971633-a6cc-4306-ac72-6d2d0e27bce1",
   "metadata": {},
   "source": [
    "## 1. Use PaddleOCR local (generic model)"
   ]
  },
  {
   "cell_type": "code",
   "execution_count": null,
   "id": "4ce6e2b8-14e1-447d-bbb8-6394f250be2a",
   "metadata": {
    "tags": []
   },
   "outputs": [],
   "source": [
    "from paddleocr import PaddleOCR,draw_ocr"
   ]
  },
  {
   "cell_type": "code",
   "execution_count": null,
   "id": "b46612ce-b3a8-43e5-9a46-78106a2fce7c",
   "metadata": {
    "tags": []
   },
   "outputs": [],
   "source": [
    "ocr = PaddleOCR(use_angle_cls=True, lang='en')"
   ]
  },
  {
   "cell_type": "code",
   "execution_count": null,
   "id": "87507aa5-068d-4378-aadc-e751b0e3a5e2",
   "metadata": {
    "tags": []
   },
   "outputs": [],
   "source": [
    "img_path = 'test_images/1.png'\n",
    "result = ocr.ocr(img_path, cls=True)\n",
    "for idx in range(len(result)):\n",
    "    res = result[idx]\n",
    "    for line in res:\n",
    "        print(line)"
   ]
  },
  {
   "cell_type": "code",
   "execution_count": null,
   "id": "d4534d74-4f7d-463a-8720-5511c84fdcd1",
   "metadata": {
    "tags": []
   },
   "outputs": [],
   "source": [
    "from PIL import Image\n",
    "result = result[0]\n",
    "image = Image.open(img_path).convert('RGB')\n",
    "boxes = [line[0] for line in result]\n",
    "txts = [line[1][0] for line in result]\n",
    "scores = [line[1][1] for line in result]\n",
    "im_show = draw_ocr(image, boxes, txts, scores, font_path='PaddleOCR/doc/fonts/simfang.ttf')\n",
    "im_show = Image.fromarray(im_show)\n",
    "im_show.save('result.jpg')"
   ]
  },
  {
   "cell_type": "markdown",
   "id": "c9c013af-6999-45fd-80da-76441589b29b",
   "metadata": {
    "tags": []
   },
   "source": [
    "## 2. PaddleOCR on SageMaker Endpoints"
   ]
  },
  {
   "cell_type": "code",
   "execution_count": null,
   "id": "e4cc73e4-c477-460c-8c29-73c2c6bd0c02",
   "metadata": {
    "tags": []
   },
   "outputs": [],
   "source": [
    "!pip install sagemaker -qU"
   ]
  },
  {
   "cell_type": "code",
   "execution_count": null,
   "id": "23a0645a-f474-480a-b2c7-baaf851cf4ba",
   "metadata": {
    "tags": []
   },
   "outputs": [],
   "source": [
    "import boto3\n",
    "import sagemaker\n",
    "import json\n",
    "from sagemaker import get_execution_role, Session\n",
    "from sagemaker.pytorch import PyTorchModel\n",
    "from sagemaker.serializers import DataSerializer\n",
    "from sagemaker.deserializers import JSONDeserializer\n",
    "role = get_execution_role()"
   ]
  },
  {
   "cell_type": "markdown",
   "id": "f4d6355f-074b-467f-b441-c32ad630bcf1",
   "metadata": {},
   "source": [
    "### 2.1 Download the models and upload them to S3 as model data"
   ]
  },
  {
   "cell_type": "code",
   "execution_count": null,
   "id": "43fa6350-2998-4d91-899a-937086c019a8",
   "metadata": {
    "tags": []
   },
   "outputs": [],
   "source": [
    "!mkdir -p model/det\n",
    "!mkdir -p model/rec/en\n",
    "!mkdir -p model/dict\n",
    "!mkdir -p model/cls\n",
    "\n",
    "!wget https://paddleocr.bj.bcebos.com/dygraph_v2.0/multilingual/en_ppocr_mobile_v2.0_det_infer.tar -O model/det/en_ppocr_mobile_v2.0_det_infer.tar\n",
    "!wget https://paddleocr.bj.bcebos.com/PP-OCRv3/english/en_PP-OCRv3_rec_infer.tar -O model/rec/en/en_PP-OCRv3_rec_infer.tar\n",
    "!wget https://paddleocr.bj.bcebos.com/dygraph_v2.0/ch/ch_ppocr_mobile_v2.0_cls_infer.tar -O model/cls/ch_ppocr_mobile_v2.0_cls_infer.tar\n",
    "\n",
    "!cd model/det/ && tar xvf en_ppocr_mobile_v2.0_det_infer.tar --strip-components 1 && rm en_ppocr_mobile_v2.0_det_infer.tar\n",
    "!cd model/rec/en/ && tar xvf en_PP-OCRv3_rec_infer.tar --strip-components 1 && rm en_PP-OCRv3_rec_infer.tar\n",
    "!cd model/cls/ && tar xvf ch_ppocr_mobile_v2.0_cls_infer.tar --strip-components 1 && rm ch_ppocr_mobile_v2.0_cls_infer.tar"
   ]
  },
  {
   "cell_type": "markdown",
   "id": "88ee9ef1-f5ca-4cb7-91d8-0856138b05f4",
   "metadata": {
    "tags": []
   },
   "source": [
    "### 2.2 Upload the model to the default Amazon SageMaker - Amazon S3 bucket"
   ]
  },
  {
   "cell_type": "code",
   "execution_count": null,
   "id": "2448832d-5d49-4077-ab2c-417eefae6826",
   "metadata": {
    "tags": []
   },
   "outputs": [],
   "source": [
    "!tar -zcvf model.tar.gz model\n",
    "model_uri = sagemaker.Session().upload_data(\"model.tar.gz\", key_prefix=\"ocr_model\")\n",
    "model_uri"
   ]
  },
  {
   "cell_type": "markdown",
   "id": "b2d24c23-0926-4b6a-b388-0c77bb4d8880",
   "metadata": {},
   "source": [
    "### 2.3 Configure and deploy the SM Model"
   ]
  },
  {
   "cell_type": "code",
   "execution_count": null,
   "id": "0a26bbfd-ebd2-4154-9316-eb115c9b4e53",
   "metadata": {
    "tags": []
   },
   "outputs": [],
   "source": [
    "model = PyTorchModel(\n",
    "    entry_point='inference.py',\n",
    "    source_dir='code',\n",
    "    model_data=model_uri,\n",
    "    framework_version='1.11.0',\n",
    "    py_version='py38',\n",
    "    role=role,\n",
    ")"
   ]
  },
  {
   "cell_type": "code",
   "execution_count": null,
   "id": "1f37e192-02f6-4f8d-b40d-2dd20b8c91ab",
   "metadata": {
    "tags": []
   },
   "outputs": [],
   "source": [
    "predictor = model.deploy(initial_instance_count=1, instance_type=\"ml.t2.medium\")\n",
    "predictor.serializer =DataSerializer(content_type=\"image/png\")\n",
    "predictor.deserializer = JSONDeserializer()"
   ]
  },
  {
   "cell_type": "markdown",
   "id": "fd08765e-e147-4591-bc6d-e9a1a89f6cad",
   "metadata": {
    "tags": []
   },
   "source": [
    "### 2.4 Send an image to the running endpoint"
   ]
  },
  {
   "cell_type": "code",
   "execution_count": null,
   "id": "b9a5ea0a-c85c-49a1-82d1-84190c6791f5",
   "metadata": {
    "tags": []
   },
   "outputs": [],
   "source": [
    "img_path = \"test_images/1.png\""
   ]
  },
  {
   "cell_type": "code",
   "execution_count": null,
   "id": "52c0e583-a819-4766-a4b7-0c66538aaa4d",
   "metadata": {
    "tags": []
   },
   "outputs": [],
   "source": [
    "def get_photo_text(img_path):\n",
    "    data = open(img_path, 'rb').read()\n",
    "    result = predictor.predict(data)\n",
    "    return result"
   ]
  },
  {
   "cell_type": "code",
   "execution_count": null,
   "id": "1faddfe8-0ed8-4450-90dd-fba6628a1fcd",
   "metadata": {
    "tags": []
   },
   "outputs": [],
   "source": [
    "result = get_photo_text(img_path)\n",
    "print(result)"
   ]
  },
  {
   "cell_type": "markdown",
   "id": "22eab7c2-692d-45e5-aa41-79efdcb0e2ed",
   "metadata": {},
   "source": [
    "## 3. PaddleOCR - Train model locally\n",
    "First download the pretrain model."
   ]
  },
  {
   "cell_type": "code",
   "execution_count": null,
   "id": "7307d640-e141-473a-ba45-0549dbaa206c",
   "metadata": {
    "tags": []
   },
   "outputs": [],
   "source": [
    "#%cd PaddleOCR/\n",
    "# Download the pre-trained model of en_PP-OCRv3\n",
    "!wget -P ./pretrain_models/ https://paddleocr.bj.bcebos.com/PP-OCRv3/english/en_PP-OCRv3_rec_train.tar\n",
    "# Decompress model parameters\n",
    "%cd pretrain_models/\n",
    "!tar -xf en_PP-OCRv3_rec_train.tar && rm -rf en_PP-OCRv3_rec_train.tar\n",
    "%cd .."
   ]
  },
  {
   "cell_type": "markdown",
   "id": "75dfc5e4-d429-4e87-b5da-d269c8d56535",
   "metadata": {},
   "source": [
    "Next create your own training dataset, \n",
    "\n",
    "Should follow this structure:\n",
    "    \n",
    "    -train_data/\n",
    "        -train/\n",
    "            -train1.jpg\n",
    "            -train2.jpg\n",
    "            -...\n",
    "        -test/\n",
    "            -test1.jpg\n",
    "            -test2.jpg\n",
    "            -...\n",
    "        train_list.txt\n",
    "        val_list.txt"
   ]
  },
  {
   "cell_type": "code",
   "execution_count": null,
   "id": "f71271ab-2df0-44ab-a538-99353dfb2436",
   "metadata": {
    "tags": []
   },
   "outputs": [],
   "source": [
    "!cp -R ../training_data train_data"
   ]
  },
  {
   "cell_type": "markdown",
   "id": "5a8da9df-da60-4006-a3fb-3ba2196966fc",
   "metadata": {},
   "source": [
    "Check you have GPU capacity and run the training. You might need to reduce the batch size for training if you get a dataset error. You can modify this in configs/rec/PP-OCRv3/en_PP-OCRv3_rec.yml"
   ]
  },
  {
   "cell_type": "code",
   "execution_count": null,
   "id": "a5a69e22-8da2-4fee-8ce0-d4ad240c4ca9",
   "metadata": {
    "tags": []
   },
   "outputs": [],
   "source": [
    "import paddle\n",
    "paddle.utils.run_check()"
   ]
  },
  {
   "cell_type": "code",
   "execution_count": null,
   "id": "86edfb00-e9aa-472b-a4d9-51247907c42a",
   "metadata": {
    "tags": []
   },
   "outputs": [],
   "source": [
    "!python3 tools/train.py -c configs/rec/PP-OCRv3/en_PP-OCRv3_rec.yml -o Global.pretrained_model=pretrain_models/en_PP-OCRv3_rec_train/best_accuracy Global.epoch_num=300 Global.eval_batch_step=[0,25]"
   ]
  },
  {
   "cell_type": "code",
   "execution_count": null,
   "id": "1294a0a9-d4d1-4743-adb3-768b1b2c5c08",
   "metadata": {
    "tags": []
   },
   "outputs": [],
   "source": [
    "# Review results\n",
    "!python3 tools/infer_rec.py -c configs/rec/PP-OCRv3/en_PP-OCRv3_rec.yml -o Global.pretrained_model=output/v3_en_mobile/best_accuracy  Global.infer_img=../test_images/1.png"
   ]
  },
  {
   "cell_type": "code",
   "execution_count": null,
   "id": "cd846d0d-45bb-4880-85a0-cb4be2c6b2e1",
   "metadata": {
    "tags": []
   },
   "outputs": [],
   "source": [
    "# Export the model\n",
    "!python3 tools/export_model.py -c configs/rec/PP-OCRv3/en_PP-OCRv3_rec.yml -o Global.pretrained_model=output/v3_en_mobile/best_accuracy Global.save_inference_dir=../model/rec/en"
   ]
  },
  {
   "cell_type": "code",
   "execution_count": null,
   "id": "5256f156-ab1a-4498-b4e3-ea92388202d2",
   "metadata": {
    "tags": []
   },
   "outputs": [],
   "source": [
    "%cd .."
   ]
  },
  {
   "cell_type": "markdown",
   "id": "a442e8cb-1008-4c0c-8460-bf6c97241839",
   "metadata": {},
   "source": [
    "You can now upload your trained model to Amazon S3 as model data and deploy the model to Amazon Sagemaker following the steps 2.2-2.4"
   ]
  }
 ],
 "metadata": {
  "kernelspec": {
   "display_name": "conda_pytorch_p310",
   "language": "python",
   "name": "conda_pytorch_p310"
  },
  "language_info": {
   "codemirror_mode": {
    "name": "ipython",
    "version": 3
   },
   "file_extension": ".py",
   "mimetype": "text/x-python",
   "name": "python",
   "nbconvert_exporter": "python",
   "pygments_lexer": "ipython3",
   "version": "3.10.10"
  }
 },
 "nbformat": 4,
 "nbformat_minor": 5
}
